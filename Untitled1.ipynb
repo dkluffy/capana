{
 "cells": [
  {
   "cell_type": "code",
   "execution_count": 2,
   "id": "forty-blackberry",
   "metadata": {},
   "outputs": [],
   "source": [
    "import subprocess"
   ]
  },
  {
   "cell_type": "code",
   "execution_count": 3,
   "id": "chicken-badge",
   "metadata": {},
   "outputs": [],
   "source": [
    "tshark_path = '/usr/bin/tshark'\n",
    "dump = 'a.pcapng'"
   ]
  },
  {
   "cell_type": "code",
   "execution_count": 84,
   "id": "guided-chosen",
   "metadata": {},
   "outputs": [],
   "source": [
    "params = [tshark_path,'-q','-r',dump]+['-Y','udp', '-T',\n",
    " 'json',\n",
    " '-e',\n",
    " 'ipv6.addr',\n",
    " '-e',\n",
    " 'tcp.port',\n",
    " '-e',\n",
    " 'tcp.stream',]\n",
    "p = subprocess.Popen(params, bufsize=100000,\n",
    "                             stdin=subprocess.PIPE,\n",
    "                             stdout=subprocess.PIPE,\n",
    "                             stderr=subprocess.PIPE)"
   ]
  },
  {
   "cell_type": "code",
   "execution_count": 85,
   "id": "loose-programming",
   "metadata": {},
   "outputs": [],
   "source": [
    "r,err = p.communicate()"
   ]
  },
  {
   "cell_type": "code",
   "execution_count": 86,
   "id": "satellite-tutorial",
   "metadata": {},
   "outputs": [
    {
     "data": {
      "text/plain": [
       "b'[\\n  {\\n    \"_index\": \"packets-2021-03-17\",\\n    \"_type\": \"doc\",\\n    \"_score\": null,\\n    \"_source\": {\\n      \"layers\": {}\\n    }\\n  },\\n  {\\n    \"_index\": \"packets-2021-03-17\",\\n    \"_type\": \"doc\",\\n    \"_score\": null,\\n    \"_source\": {\\n      \"layers\": {\\n        \"ipv6.addr\": [\\n          \"fe80::4de:bff0:3471:e13c\",\\n          \"ff02::fb\"\\n        ]\\n      }\\n    }\\n  },\\n  {\\n    \"_index\": \"packets-2021-03-17\",\\n    \"_type\": \"doc\",\\n    \"_score\": null,\\n    \"_source\": {\\n      \"layers\": {}\\n    }\\n  },\\n  {\\n    \"_index\": \"packets-2021-03-17\",\\n    \"_type\": \"doc\",\\n    \"_score\": null,\\n    \"_source\": {\\n      \"layers\": {}\\n    }\\n  },\\n  {\\n    \"_index\": \"packets-2021-03-17\",\\n    \"_type\": \"doc\",\\n    \"_score\": null,\\n    \"_source\": {\\n      \"layers\": {\\n        \"ipv6.addr\": [\\n          \"fe80::4de:bff0:3471:e13c\",\\n          \"ff02::fb\"\\n        ]\\n      }\\n    }\\n  },\\n  {\\n    \"_index\": \"packets-2021-03-17\",\\n    \"_type\": \"doc\",\\n    \"_score\": null,\\n    \"_source\": {\\n      \"layers\": {}\\n    }\\n  },\\n  {\\n    \"_index\": \"packets-2021-03-17\",\\n    \"_type\": \"doc\",\\n    \"_score\": null,\\n    \"_source\": {\\n      \"layers\": {}\\n    }\\n  },\\n  {\\n    \"_index\": \"packets-2021-03-17\",\\n    \"_type\": \"doc\",\\n    \"_score\": null,\\n    \"_source\": {\\n      \"layers\": {\\n        \"ipv6.addr\": [\\n          \"fe80::4de:bff0:3471:e13c\",\\n          \"ff02::fb\"\\n        ]\\n      }\\n    }\\n  },\\n  {\\n    \"_index\": \"packets-2021-03-17\",\\n    \"_type\": \"doc\",\\n    \"_score\": null,\\n    \"_source\": {\\n      \"layers\": {}\\n    }\\n  },\\n  {\\n    \"_index\": \"packets-2021-03-17\",\\n    \"_type\": \"doc\",\\n    \"_score\": null,\\n    \"_source\": {\\n      \"layers\": {}\\n    }\\n  },\\n  {\\n    \"_index\": \"packets-2021-03-17\",\\n    \"_type\": \"doc\",\\n    \"_score\": null,\\n    \"_source\": {\\n      \"layers\": {\\n        \"ipv6.addr\": [\\n          \"fe80::e48a:3834:9855:4459\",\\n          \"ff02::fb\"\\n        ]\\n      }\\n    }\\n  },\\n  {\\n    \"_index\": \"packets-2021-03-17\",\\n    \"_type\": \"doc\",\\n    \"_score\": null,\\n    \"_source\": {\\n      \"layers\": {}\\n    }\\n  },\\n  {\\n    \"_index\": \"packets-2021-03-17\",\\n    \"_type\": \"doc\",\\n    \"_score\": null,\\n    \"_source\": {\\n      \"layers\": {\\n        \"ipv6.addr\": [\\n          \"fe80::e48a:3834:9855:4459\",\\n          \"ff02::fb\"\\n        ]\\n      }\\n    }\\n  },\\n  {\\n    \"_index\": \"packets-2021-03-17\",\\n    \"_type\": \"doc\",\\n    \"_score\": null,\\n    \"_source\": {\\n      \"layers\": {\\n        \"ipv6.addr\": [\\n          \"fe80::e48a:3834:9855:4459\",\\n          \"ff02::1:3\"\\n        ]\\n      }\\n    }\\n  },\\n  {\\n    \"_index\": \"packets-2021-03-17\",\\n    \"_type\": \"doc\",\\n    \"_score\": null,\\n    \"_source\": {\\n      \"layers\": {}\\n    }\\n  },\\n  {\\n    \"_index\": \"packets-2021-03-17\",\\n    \"_type\": \"doc\",\\n    \"_score\": null,\\n    \"_source\": {\\n      \"layers\": {\\n        \"ipv6.addr\": [\\n          \"fe80::e48a:3834:9855:4459\",\\n          \"ff02::1:3\"\\n        ]\\n      }\\n    }\\n  },\\n  {\\n    \"_index\": \"packets-2021-03-17\",\\n    \"_type\": \"doc\",\\n    \"_score\": null,\\n    \"_source\": {\\n      \"layers\": {}\\n    }\\n  },\\n  {\\n    \"_index\": \"packets-2021-03-17\",\\n    \"_type\": \"doc\",\\n    \"_score\": null,\\n    \"_source\": {\\n      \"layers\": {}\\n    }\\n  },\\n  {\\n    \"_index\": \"packets-2021-03-17\",\\n    \"_type\": \"doc\",\\n    \"_score\": null,\\n    \"_source\": {\\n      \"layers\": {\\n        \"ipv6.addr\": [\\n          \"fe80::e48a:3834:9855:4459\",\\n          \"ff02::fb\"\\n        ]\\n      }\\n    }\\n  },\\n  {\\n    \"_index\": \"packets-2021-03-17\",\\n    \"_type\": \"doc\",\\n    \"_score\": null,\\n    \"_source\": {\\n      \"layers\": {}\\n    }\\n  },\\n  {\\n    \"_index\": \"packets-2021-03-17\",\\n    \"_type\": \"doc\",\\n    \"_score\": null,\\n    \"_source\": {\\n      \"layers\": {\\n        \"ipv6.addr\": [\\n          \"fe80::e48a:3834:9855:4459\",\\n          \"ff02::fb\"\\n        ]\\n      }\\n    }\\n  },\\n  {\\n    \"_index\": \"packets-2021-03-17\",\\n    \"_type\": \"doc\",\\n    \"_score\": null,\\n    \"_source\": {\\n      \"layers\": {}\\n    }\\n  },\\n  {\\n    \"_index\": \"packets-2021-03-17\",\\n    \"_type\": \"doc\",\\n    \"_score\": null,\\n    \"_source\": {\\n      \"layers\": {}\\n    }\\n  },\\n  {\\n    \"_index\": \"packets-2021-03-17\",\\n    \"_type\": \"doc\",\\n    \"_score\": null,\\n    \"_source\": {\\n      \"layers\": {}\\n    }\\n  },\\n  {\\n    \"_index\": \"packets-2021-03-17\",\\n    \"_type\": \"doc\",\\n    \"_score\": null,\\n    \"_source\": {\\n      \"layers\": {}\\n    }\\n  },\\n  {\\n    \"_index\": \"packets-2021-03-17\",\\n    \"_type\": \"doc\",\\n    \"_score\": null,\\n    \"_source\": {\\n      \"layers\": {\\n        \"ipv6.addr\": [\\n          \"fe80::e48a:3834:9855:4459\",\\n          \"ff02::1:3\"\\n        ]\\n      }\\n    }\\n  },\\n  {\\n    \"_index\": \"packets-2021-03-17\",\\n    \"_type\": \"doc\",\\n    \"_score\": null,\\n    \"_source\": {\\n      \"layers\": {\\n        \"ipv6.addr\": [\\n          \"fe80::e48a:3834:9855:4459\",\\n          \"ff02::1:3\"\\n        ]\\n      }\\n    }\\n  },\\n  {\\n    \"_index\": \"packets-2021-03-17\",\\n    \"_type\": \"doc\",\\n    \"_score\": null,\\n    \"_source\": {\\n      \"layers\": {}\\n    }\\n  },\\n  {\\n    \"_index\": \"packets-2021-03-17\",\\n    \"_type\": \"doc\",\\n    \"_score\": null,\\n    \"_source\": {\\n      \"layers\": {}\\n    }\\n  },\\n  {\\n    \"_index\": \"packets-2021-03-17\",\\n    \"_type\": \"doc\",\\n    \"_score\": null,\\n    \"_source\": {\\n      \"layers\": {}\\n    }\\n  },\\n  {\\n    \"_index\": \"packets-2021-03-17\",\\n    \"_type\": \"doc\",\\n    \"_score\": null,\\n    \"_source\": {\\n      \"layers\": {}\\n    }\\n  },\\n  {\\n    \"_index\": \"packets-2021-03-17\",\\n    \"_type\": \"doc\",\\n    \"_score\": null,\\n    \"_source\": {\\n      \"layers\": {\\n        \"ipv6.addr\": [\\n          \"fe80::e48a:3834:9855:4459\",\\n          \"ff02::fb\"\\n        ]\\n      }\\n    }\\n  },\\n  {\\n    \"_index\": \"packets-2021-03-17\",\\n    \"_type\": \"doc\",\\n    \"_score\": null,\\n    \"_source\": {\\n      \"layers\": {}\\n    }\\n  },\\n  {\\n    \"_index\": \"packets-2021-03-17\",\\n    \"_type\": \"doc\",\\n    \"_score\": null,\\n    \"_source\": {\\n      \"layers\": {\\n        \"ipv6.addr\": [\\n          \"fe80::e48a:3834:9855:4459\",\\n          \"ff02::fb\"\\n        ]\\n      }\\n    }\\n  },\\n  {\\n    \"_index\": \"packets-2021-03-17\",\\n    \"_type\": \"doc\",\\n    \"_score\": null,\\n    \"_source\": {\\n      \"layers\": {}\\n    }\\n  },\\n  {\\n    \"_index\": \"packets-2021-03-17\",\\n    \"_type\": \"doc\",\\n    \"_score\": null,\\n    \"_source\": {\\n      \"layers\": {\\n        \"ipv6.addr\": [\\n          \"fe80::e48a:3834:9855:4459\",\\n          \"ff02::fb\"\\n        ]\\n      }\\n    }\\n  },\\n  {\\n    \"_index\": \"packets-2021-03-17\",\\n    \"_type\": \"doc\",\\n    \"_score\": null,\\n    \"_source\": {\\n      \"layers\": {}\\n    }\\n  },\\n  {\\n    \"_index\": \"packets-2021-03-17\",\\n    \"_type\": \"doc\",\\n    \"_score\": null,\\n    \"_source\": {\\n      \"layers\": {\\n        \"ipv6.addr\": [\\n          \"fe80::e48a:3834:9855:4459\",\\n          \"ff02::fb\"\\n        ]\\n      }\\n    }\\n  },\\n  {\\n    \"_index\": \"packets-2021-03-17\",\\n    \"_type\": \"doc\",\\n    \"_score\": null,\\n    \"_source\": {\\n      \"layers\": {}\\n    }\\n  },\\n  {\\n    \"_index\": \"packets-2021-03-17\",\\n    \"_type\": \"doc\",\\n    \"_score\": null,\\n    \"_source\": {\\n      \"layers\": {}\\n    }\\n  },\\n  {\\n    \"_index\": \"packets-2021-03-17\",\\n    \"_type\": \"doc\",\\n    \"_score\": null,\\n    \"_source\": {\\n      \"layers\": {}\\n    }\\n  },\\n  {\\n    \"_index\": \"packets-2021-03-17\",\\n    \"_type\": \"doc\",\\n    \"_score\": null,\\n    \"_source\": {\\n      \"layers\": {}\\n    }\\n  },\\n  {\\n    \"_index\": \"packets-2021-03-17\",\\n    \"_type\": \"doc\",\\n    \"_score\": null,\\n    \"_source\": {\\n      \"layers\": {\\n        \"ipv6.addr\": [\\n          \"fe80::65be:40b7:16a2:de45\",\\n          \"ff02::1:3\"\\n        ]\\n      }\\n    }\\n  },\\n  {\\n    \"_index\": \"packets-2021-03-17\",\\n    \"_type\": \"doc\",\\n    \"_score\": null,\\n    \"_source\": {\\n      \"layers\": {}\\n    }\\n  },\\n  {\\n    \"_index\": \"packets-2021-03-17\",\\n    \"_type\": \"doc\",\\n    \"_score\": null,\\n    \"_source\": {\\n      \"layers\": {}\\n    }\\n  },\\n  {\\n    \"_index\": \"packets-2021-03-17\",\\n    \"_type\": \"doc\",\\n    \"_score\": null,\\n    \"_source\": {\\n      \"layers\": {\\n        \"ipv6.addr\": [\\n          \"fe80::4de:bff0:3471:e13c\",\\n          \"ff02::fb\"\\n        ]\\n      }\\n    }\\n  },\\n  {\\n    \"_index\": \"packets-2021-03-17\",\\n    \"_type\": \"doc\",\\n    \"_score\": null,\\n    \"_source\": {\\n      \"layers\": {}\\n    }\\n  },\\n  {\\n    \"_index\": \"packets-2021-03-17\",\\n    \"_type\": \"doc\",\\n    \"_score\": null,\\n    \"_source\": {\\n      \"layers\": {}\\n    }\\n  },\\n  {\\n    \"_index\": \"packets-2021-03-17\",\\n    \"_type\": \"doc\",\\n    \"_score\": null,\\n    \"_source\": {\\n      \"layers\": {}\\n    }\\n  },\\n  {\\n    \"_index\": \"packets-2021-03-17\",\\n    \"_type\": \"doc\",\\n    \"_score\": null,\\n    \"_source\": {\\n      \"layers\": {}\\n    }\\n  },\\n  {\\n    \"_index\": \"packets-2021-03-17\",\\n    \"_type\": \"doc\",\\n    \"_score\": null,\\n    \"_source\": {\\n      \"layers\": {}\\n    }\\n  },\\n  {\\n    \"_index\": \"packets-2021-03-17\",\\n    \"_type\": \"doc\",\\n    \"_score\": null,\\n    \"_source\": {\\n      \"layers\": {\\n        \"ipv6.addr\": [\\n          \"fe80::4de:bff0:3471:e13c\",\\n          \"ff02::fb\"\\n        ]\\n      }\\n    }\\n  },\\n  {\\n    \"_index\": \"packets-2021-03-17\",\\n    \"_type\": \"doc\",\\n    \"_score\": null,\\n    \"_source\": {\\n      \"layers\": {}\\n    }\\n  },\\n  {\\n    \"_index\": \"packets-2021-03-17\",\\n    \"_type\": \"doc\",\\n    \"_score\": null,\\n    \"_source\": {\\n      \"layers\": {}\\n    }\\n  },\\n  {\\n    \"_index\": \"packets-2021-03-17\",\\n    \"_type\": \"doc\",\\n    \"_score\": null,\\n    \"_source\": {\\n      \"layers\": {\\n        \"ipv6.addr\": [\\n          \"fe80::65be:40b7:16a2:de45\",\\n          \"ff02::1:3\"\\n        ]\\n      }\\n    }\\n  },\\n  {\\n    \"_index\": \"packets-2021-03-17\",\\n    \"_type\": \"doc\",\\n    \"_score\": null,\\n    \"_source\": {\\n      \"layers\": {}\\n    }\\n  },\\n  {\\n    \"_index\": \"packets-2021-03-17\",\\n    \"_type\": \"doc\",\\n    \"_score\": null,\\n    \"_source\": {\\n      \"layers\": {}\\n    }\\n  },\\n  {\\n    \"_index\": \"packets-2021-03-17\",\\n    \"_type\": \"doc\",\\n    \"_score\": null,\\n    \"_source\": {\\n      \"layers\": {}\\n    }\\n  },\\n  {\\n    \"_index\": \"packets-2021-03-17\",\\n    \"_type\": \"doc\",\\n    \"_score\": null,\\n    \"_source\": {\\n      \"layers\": {}\\n    }\\n  },\\n  {\\n    \"_index\": \"packets-2021-03-17\",\\n    \"_type\": \"doc\",\\n    \"_score\": null,\\n    \"_source\": {\\n      \"layers\": {\\n        \"ipv6.addr\": [\\n          \"fe80::4de:bff0:3471:e13c\",\\n          \"ff02::fb\"\\n        ]\\n      }\\n    }\\n  },\\n  {\\n    \"_index\": \"packets-2021-03-17\",\\n    \"_type\": \"doc\",\\n    \"_score\": null,\\n    \"_source\": {\\n      \"layers\": {}\\n    }\\n  },\\n  {\\n    \"_index\": \"packets-2021-03-17\",\\n    \"_type\": \"doc\",\\n    \"_score\": null,\\n    \"_source\": {\\n      \"layers\": {}\\n    }\\n  },\\n  {\\n    \"_index\": \"packets-2021-03-17\",\\n    \"_type\": \"doc\",\\n    \"_score\": null,\\n    \"_source\": {\\n      \"layers\": {\\n        \"ipv6.addr\": [\\n          \"fe80::4de:bff0:3471:e13c\",\\n          \"ff02::fb\"\\n        ]\\n      }\\n    }\\n  },\\n  {\\n    \"_index\": \"packets-2021-03-17\",\\n    \"_type\": \"doc\",\\n    \"_score\": null,\\n    \"_source\": {\\n      \"layers\": {}\\n    }\\n  },\\n  {\\n    \"_index\": \"packets-2021-03-17\",\\n    \"_type\": \"doc\",\\n    \"_score\": null,\\n    \"_source\": {\\n      \"layers\": {\\n        \"ipv6.addr\": [\\n          \"fe80::14a8:5f25:9d0:155\",\\n          \"ff02::fb\"\\n        ]\\n      }\\n    }\\n  },\\n  {\\n    \"_index\": \"packets-2021-03-17\",\\n    \"_type\": \"doc\",\\n    \"_score\": null,\\n    \"_source\": {\\n      \"layers\": {}\\n    }\\n  },\\n  {\\n    \"_index\": \"packets-2021-03-17\",\\n    \"_type\": \"doc\",\\n    \"_score\": null,\\n    \"_source\": {\\n      \"layers\": {}\\n    }\\n  },\\n  {\\n    \"_index\": \"packets-2021-03-17\",\\n    \"_type\": \"doc\",\\n    \"_score\": null,\\n    \"_source\": {\\n      \"layers\": {}\\n    }\\n  },\\n  {\\n    \"_index\": \"packets-2021-03-17\",\\n    \"_type\": \"doc\",\\n    \"_score\": null,\\n    \"_source\": {\\n      \"layers\": {\\n        \"ipv6.addr\": [\\n          \"fe80::f4ec:d68d:8a5a:2043\",\\n          \"ff02::1:3\"\\n        ]\\n      }\\n    }\\n  },\\n  {\\n    \"_index\": \"packets-2021-03-17\",\\n    \"_type\": \"doc\",\\n    \"_score\": null,\\n    \"_source\": {\\n      \"layers\": {}\\n    }\\n  },\\n  {\\n    \"_index\": \"packets-2021-03-17\",\\n    \"_type\": \"doc\",\\n    \"_score\": null,\\n    \"_source\": {\\n      \"layers\": {}\\n    }\\n  },\\n  {\\n    \"_index\": \"packets-2021-03-17\",\\n    \"_type\": \"doc\",\\n    \"_score\": null,\\n    \"_source\": {\\n      \"layers\": {\\n        \"ipv6.addr\": [\\n          \"fe80::f4ec:d68d:8a5a:2043\",\\n          \"ff02::1:3\"\\n        ]\\n      }\\n    }\\n  },\\n  {\\n    \"_index\": \"packets-2021-03-17\",\\n    \"_type\": \"doc\",\\n    \"_score\": null,\\n    \"_source\": {\\n      \"layers\": {}\\n    }\\n  },\\n  {\\n    \"_index\": \"packets-2021-03-17\",\\n    \"_type\": \"doc\",\\n    \"_score\": null,\\n    \"_source\": {\\n      \"layers\": {\\n        \"ipv6.addr\": [\\n          \"fe80::f4ec:d68d:8a5a:2043\",\\n          \"ff02::1:3\"\\n        ]\\n      }\\n    }\\n  },\\n  {\\n    \"_index\": \"packets-2021-03-17\",\\n    \"_type\": \"doc\",\\n    \"_score\": null,\\n    \"_source\": {\\n      \"layers\": {}\\n    }\\n  },\\n  {\\n    \"_index\": \"packets-2021-03-17\",\\n    \"_type\": \"doc\",\\n    \"_score\": null,\\n    \"_source\": {\\n      \"layers\": {}\\n    }\\n  },\\n  {\\n    \"_index\": \"packets-2021-03-17\",\\n    \"_type\": \"doc\",\\n    \"_score\": null,\\n    \"_source\": {\\n      \"layers\": {\\n        \"ipv6.addr\": [\\n          \"fe80::4de:bff0:3471:e13c\",\\n          \"ff02::fb\"\\n        ]\\n      }\\n    }\\n  },\\n  {\\n    \"_index\": \"packets-2021-03-17\",\\n    \"_type\": \"doc\",\\n    \"_score\": null,\\n    \"_source\": {\\n      \"layers\": {\\n        \"ipv6.addr\": [\\n          \"fe80::65be:40b7:16a2:de45\",\\n          \"ff02::1:3\"\\n        ]\\n      }\\n    }\\n  },\\n  {\\n    \"_index\": \"packets-2021-03-17\",\\n    \"_type\": \"doc\",\\n    \"_score\": null,\\n    \"_source\": {\\n      \"layers\": {}\\n    }\\n  },\\n  {\\n    \"_index\": \"packets-2021-03-17\",\\n    \"_type\": \"doc\",\\n    \"_score\": null,\\n    \"_source\": {\\n      \"layers\": {}\\n    }\\n  },\\n  {\\n    \"_index\": \"packets-2021-03-17\",\\n    \"_type\": \"doc\",\\n    \"_score\": null,\\n    \"_source\": {\\n      \"layers\": {}\\n    }\\n  },\\n  {\\n    \"_index\": \"packets-2021-03-17\",\\n    \"_type\": \"doc\",\\n    \"_score\": null,\\n    \"_source\": {\\n      \"layers\": {}\\n    }\\n  },\\n  {\\n    \"_index\": \"packets-2021-03-17\",\\n    \"_type\": \"doc\",\\n    \"_score\": null,\\n    \"_source\": {\\n      \"layers\": {\\n        \"ipv6.addr\": [\\n          \"fe80::4de:bff0:3471:e13c\",\\n          \"ff02::fb\"\\n        ]\\n      }\\n    }\\n  },\\n  {\\n    \"_index\": \"packets-2021-03-17\",\\n    \"_type\": \"doc\",\\n    \"_score\": null,\\n    \"_source\": {\\n      \"layers\": {}\\n    }\\n  },\\n  {\\n    \"_index\": \"packets-2021-03-17\",\\n    \"_type\": \"doc\",\\n    \"_score\": null,\\n    \"_source\": {\\n      \"layers\": {\\n        \"ipv6.addr\": [\\n          \"fe80::4de:bff0:3471:e13c\",\\n          \"ff02::fb\"\\n        ]\\n      }\\n    }\\n  },\\n  {\\n    \"_index\": \"packets-2021-03-17\",\\n    \"_type\": \"doc\",\\n    \"_score\": null,\\n    \"_source\": {\\n      \"layers\": {}\\n    }\\n  },\\n  {\\n    \"_index\": \"packets-2021-03-17\",\\n    \"_type\": \"doc\",\\n    \"_score\": null,\\n    \"_source\": {\\n      \"layers\": {\\n        \"ipv6.addr\": [\\n          \"fe80::14db:af9f:309a:53fa\",\\n          \"ff02::fb\"\\n        ]\\n      }\\n    }\\n  },\\n  {\\n    \"_index\": \"packets-2021-03-17\",\\n    \"_type\": \"doc\",\\n    \"_score\": null,\\n    \"_source\": {\\n      \"layers\": {}\\n    }\\n  },\\n  {\\n    \"_index\": \"packets-2021-03-17\",\\n    \"_type\": \"doc\",\\n    \"_score\": null,\\n    \"_source\": {\\n      \"layers\": {\\n        \"ipv6.addr\": [\\n          \"fe80::4de:bff0:3471:e13c\",\\n          \"ff02::fb\"\\n        ]\\n      }\\n    }\\n  },\\n  {\\n    \"_index\": \"packets-2021-03-17\",\\n    \"_type\": \"doc\",\\n    \"_score\": null,\\n    \"_source\": {\\n      \"layers\": {}\\n    }\\n  },\\n  {\\n    \"_index\": \"packets-2021-03-17\",\\n    \"_type\": \"doc\",\\n    \"_score\": null,\\n    \"_source\": {\\n      \"layers\": {\\n        \"ipv6.addr\": [\\n          \"fe80::14db:af9f:309a:53fa\",\\n          \"ff02::fb\"\\n        ]\\n      }\\n    }\\n  },\\n  {\\n    \"_index\": \"packets-2021-03-17\",\\n    \"_type\": \"doc\",\\n    \"_score\": null,\\n    \"_source\": {\\n      \"layers\": {}\\n    }\\n  },\\n  {\\n    \"_index\": \"packets-2021-03-17\",\\n    \"_type\": \"doc\",\\n    \"_score\": null,\\n    \"_source\": {\\n      \"layers\": {\\n        \"ipv6.addr\": [\\n          \"fe80::1853:7cac:f595:e0ff\",\\n          \"ff02::fb\"\\n        ]\\n      }\\n    }\\n  },\\n  {\\n    \"_index\": \"packets-2021-03-17\",\\n    \"_type\": \"doc\",\\n    \"_score\": null,\\n    \"_source\": {\\n      \"layers\": {}\\n    }\\n  },\\n  {\\n    \"_index\": \"packets-2021-03-17\",\\n    \"_type\": \"doc\",\\n    \"_score\": null,\\n    \"_source\": {\\n      \"layers\": {\\n        \"ipv6.addr\": [\\n          \"fe80::14a8:5f25:9d0:155\",\\n          \"ff02::fb\"\\n        ]\\n      }\\n    }\\n  },\\n  {\\n    \"_index\": \"packets-2021-03-17\",\\n    \"_type\": \"doc\",\\n    \"_score\": null,\\n    \"_source\": {\\n      \"layers\": {}\\n    }\\n  },\\n  {\\n    \"_index\": \"packets-2021-03-17\",\\n    \"_type\": \"doc\",\\n    \"_score\": null,\\n    \"_source\": {\\n      \"layers\": {\\n        \"ipv6.addr\": [\\n          \"fe80::40:8a75:7e53:eb0c\",\\n          \"ff02::fb\"\\n        ]\\n      }\\n    }\\n  },\\n  {\\n    \"_index\": \"packets-2021-03-17\",\\n    \"_type\": \"doc\",\\n    \"_score\": null,\\n    \"_source\": {\\n      \"layers\": {}\\n    }\\n  },\\n  {\\n    \"_index\": \"packets-2021-03-17\",\\n    \"_type\": \"doc\",\\n    \"_score\": null,\\n    \"_source\": {\\n      \"layers\": {\\n        \"ipv6.addr\": [\\n          \"fe80::4de:bff0:3471:e13c\",\\n          \"ff02::fb\"\\n        ]\\n      }\\n    }\\n  },\\n  {\\n    \"_index\": \"packets-2021-03-17\",\\n    \"_type\": \"doc\",\\n    \"_score\": null,\\n    \"_source\": {\\n      \"layers\": {}\\n    }\\n  },\\n  {\\n    \"_index\": \"packets-2021-03-17\",\\n    \"_type\": \"doc\",\\n    \"_score\": null,\\n    \"_source\": {\\n      \"layers\": {}\\n    }\\n  },\\n  {\\n    \"_index\": \"packets-2021-03-17\",\\n    \"_type\": \"doc\",\\n    \"_score\": null,\\n    \"_source\": {\\n      \"layers\": {}\\n    }\\n  },\\n  {\\n    \"_index\": \"packets-2021-03-17\",\\n    \"_type\": \"doc\",\\n    \"_score\": null,\\n    \"_source\": {\\n      \"layers\": {}\\n    }\\n  },\\n  {\\n    \"_index\": \"packets-2021-03-17\",\\n    \"_type\": \"doc\",\\n    \"_score\": null,\\n    \"_source\": {\\n      \"layers\": {}\\n    }\\n  },\\n  {\\n    \"_index\": \"packets-2021-03-17\",\\n    \"_type\": \"doc\",\\n    \"_score\": null,\\n    \"_source\": {\\n      \"layers\": {}\\n    }\\n  },\\n  {\\n    \"_index\": \"packets-2021-03-17\",\\n    \"_type\": \"doc\",\\n    \"_score\": null,\\n    \"_source\": {\\n      \"layers\": {}\\n    }\\n  },\\n  {\\n    \"_index\": \"packets-2021-03-17\",\\n    \"_type\": \"doc\",\\n    \"_score\": null,\\n    \"_source\": {\\n      \"layers\": {\\n        \"ipv6.addr\": [\\n          \"fe80::14db:af9f:309a:53fa\",\\n          \"ff02::fb\"\\n        ]\\n      }\\n    }\\n  },\\n  {\\n    \"_index\": \"packets-2021-03-17\",\\n    \"_type\": \"doc\",\\n    \"_score\": null,\\n    \"_source\": {\\n      \"layers\": {}\\n    }\\n  },\\n  {\\n    \"_index\": \"packets-2021-03-17\",\\n    \"_type\": \"doc\",\\n    \"_score\": null,\\n    \"_source\": {\\n      \"layers\": {}\\n    }\\n  },\\n  {\\n    \"_index\": \"packets-2021-03-17\",\\n    \"_type\": \"doc\",\\n    \"_score\": null,\\n    \"_source\": {\\n      \"layers\": {\\n        \"ipv6.addr\": [\\n          \"fe80::f4ec:d68d:8a5a:2043\",\\n          \"ff02::1:3\"\\n        ]\\n      }\\n    }\\n  },\\n  {\\n    \"_index\": \"packets-2021-03-17\",\\n    \"_type\": \"doc\",\\n    \"_score\": null,\\n    \"_source\": {\\n      \"layers\": {}\\n    }\\n  },\\n  {\\n    \"_index\": \"packets-2021-03-17\",\\n    \"_type\": \"doc\",\\n    \"_score\": null,\\n    \"_source\": {\\n      \"layers\": {\\n        \"ipv6.addr\": [\\n          \"fe80::f4ec:d68d:8a5a:2043\",\\n          \"ff02::1:3\"\\n        ]\\n      }\\n    }\\n  },\\n  {\\n    \"_index\": \"packets-2021-03-17\",\\n    \"_type\": \"doc\",\\n    \"_score\": null,\\n    \"_source\": {\\n      \"layers\": {}\\n    }\\n  },\\n  {\\n    \"_index\": \"packets-2021-03-17\",\\n    \"_type\": \"doc\",\\n    \"_score\": null,\\n    \"_source\": {\\n      \"layers\": {}\\n    }\\n  },\\n  {\\n    \"_index\": \"packets-2021-03-17\",\\n    \"_type\": \"doc\",\\n    \"_score\": null,\\n    \"_source\": {\\n      \"layers\": {}\\n    }\\n  },\\n  {\\n    \"_index\": \"packets-2021-03-17\",\\n    \"_type\": \"doc\",\\n    \"_score\": null,\\n    \"_source\": {\\n      \"layers\": {\\n        \"ipv6.addr\": [\\n          \"fe80::4de:bff0:3471:e13c\",\\n          \"ff02::fb\"\\n        ]\\n      }\\n    }\\n  },\\n  {\\n    \"_index\": \"packets-2021-03-17\",\\n    \"_type\": \"doc\",\\n    \"_score\": null,\\n    \"_source\": {\\n      \"layers\": {}\\n    }\\n  },\\n  {\\n    \"_index\": \"packets-2021-03-17\",\\n    \"_type\": \"doc\",\\n    \"_score\": null,\\n    \"_source\": {\\n      \"layers\": {\\n        \"ipv6.addr\": [\\n          \"fe80::1863:cbd7:2c98:52d6\",\\n          \"ff02::fb\"\\n        ]\\n      }\\n    }\\n  },\\n  {\\n    \"_index\": \"packets-2021-03-17\",\\n    \"_type\": \"doc\",\\n    \"_score\": null,\\n    \"_source\": {\\n      \"layers\": {}\\n    }\\n  },\\n  {\\n    \"_index\": \"packets-2021-03-17\",\\n    \"_type\": \"doc\",\\n    \"_score\": null,\\n    \"_source\": {\\n      \"layers\": {}\\n    }\\n  },\\n  {\\n    \"_index\": \"packets-2021-03-17\",\\n    \"_type\": \"doc\",\\n    \"_score\": null,\\n    \"_source\": {\\n      \"layers\": {}\\n    }\\n  },\\n  {\\n    \"_index\": \"packets-2021-03-17\",\\n    \"_type\": \"doc\",\\n    \"_score\": null,\\n    \"_source\": {\\n      \"layers\": {}\\n    }\\n  },\\n  {\\n    \"_index\": \"packets-2021-03-17\",\\n    \"_type\": \"doc\",\\n    \"_score\": null,\\n    \"_source\": {\\n      \"layers\": {}\\n    }\\n  },\\n  {\\n    \"_index\": \"packets-2021-03-17\",\\n    \"_type\": \"doc\",\\n    \"_score\": null,\\n    \"_source\": {\\n      \"layers\": {}\\n    }\\n  },\\n  {\\n    \"_index\": \"packets-2021-03-17\",\\n    \"_type\": \"doc\",\\n    \"_score\": null,\\n    \"_source\": {\\n      \"layers\": {}\\n    }\\n  },\\n  {\\n    \"_index\": \"packets-2021-03-17\",\\n    \"_type\": \"doc\",\\n    \"_score\": null,\\n    \"_source\": {\\n      \"layers\": {}\\n    }\\n  },\\n  {\\n    \"_index\": \"packets-2021-03-17\",\\n    \"_type\": \"doc\",\\n    \"_score\": null,\\n    \"_source\": {\\n      \"layers\": {}\\n    }\\n  },\\n  {\\n    \"_index\": \"packets-2021-03-17\",\\n    \"_type\": \"doc\",\\n    \"_score\": null,\\n    \"_source\": {\\n      \"layers\": {}\\n    }\\n  },\\n  {\\n    \"_index\": \"packets-2021-03-17\",\\n    \"_type\": \"doc\",\\n    \"_score\": null,\\n    \"_source\": {\\n      \"layers\": {}\\n    }\\n  },\\n  {\\n    \"_index\": \"packets-2021-03-17\",\\n    \"_type\": \"doc\",\\n    \"_score\": null,\\n    \"_source\": {\\n      \"layers\": {}\\n    }\\n  },\\n  {\\n    \"_index\": \"packets-2021-03-17\",\\n    \"_type\": \"doc\",\\n    \"_score\": null,\\n    \"_source\": {\\n      \"layers\": {}\\n    }\\n  },\\n  {\\n    \"_index\": \"packets-2021-03-17\",\\n    \"_type\": \"doc\",\\n    \"_score\": null,\\n    \"_source\": {\\n      \"layers\": {}\\n    }\\n  },\\n  {\\n    \"_index\": \"packets-2021-03-17\",\\n    \"_type\": \"doc\",\\n    \"_score\": null,\\n    \"_source\": {\\n      \"layers\": {\\n        \"ipv6.addr\": [\\n          \"fe80::4de:bff0:3471:e13c\",\\n          \"ff02::fb\"\\n        ]\\n      }\\n    }\\n  },\\n  {\\n    \"_index\": \"packets-2021-03-17\",\\n    \"_type\": \"doc\",\\n    \"_score\": null,\\n    \"_source\": {\\n      \"layers\": {}\\n    }\\n  },\\n  {\\n    \"_index\": \"packets-2021-03-17\",\\n    \"_type\": \"doc\",\\n    \"_score\": null,\\n    \"_source\": {\\n      \"layers\": {}\\n    }\\n  },\\n  {\\n    \"_index\": \"packets-2021-03-17\",\\n    \"_type\": \"doc\",\\n    \"_score\": null,\\n    \"_source\": {\\n      \"layers\": {\\n        \"ipv6.addr\": [\\n          \"fe80::4de:bff0:3471:e13c\",\\n          \"ff02::fb\"\\n        ]\\n      }\\n    }\\n  },\\n  {\\n    \"_index\": \"packets-2021-03-17\",\\n    \"_type\": \"doc\",\\n    \"_score\": null,\\n    \"_source\": {\\n      \"layers\": {}\\n    }\\n  },\\n  {\\n    \"_index\": \"packets-2021-03-17\",\\n    \"_type\": \"doc\",\\n    \"_score\": null,\\n    \"_source\": {\\n      \"layers\": {}\\n    }\\n  },\\n  {\\n    \"_index\": \"packets-2021-03-17\",\\n    \"_type\": \"doc\",\\n    \"_score\": null,\\n    \"_source\": {\\n      \"layers\": {}\\n    }\\n  },\\n  {\\n    \"_index\": \"packets-2021-03-17\",\\n    \"_type\": \"doc\",\\n    \"_score\": null,\\n    \"_source\": {\\n      \"layers\": {\\n        \"ipv6.addr\": [\\n          \"fe80::f4ec:d68d:8a5a:2043\",\\n          \"ff02::1:3\"\\n        ]\\n      }\\n    }\\n  },\\n  {\\n    \"_index\": \"packets-2021-03-17\",\\n    \"_type\": \"doc\",\\n    \"_score\": null,\\n    \"_source\": {\\n      \"layers\": {}\\n    }\\n  },\\n  {\\n    \"_index\": \"packets-2021-03-17\",\\n    \"_type\": \"doc\",\\n    \"_score\": null,\\n    \"_source\": {\\n      \"layers\": {}\\n    }\\n  },\\n  {\\n    \"_index\": \"packets-2021-03-17\",\\n    \"_type\": \"doc\",\\n    \"_score\": null,\\n    \"_source\": {\\n      \"layers\": {\\n        \"ipv6.addr\": [\\n          \"fe80::4de:bff0:3471:e13c\",\\n          \"ff02::fb\"\\n        ]\\n      }\\n    }\\n  },\\n  {\\n    \"_index\": \"packets-2021-03-17\",\\n    \"_type\": \"doc\",\\n    \"_score\": null,\\n    \"_source\": {\\n      \"layers\": {\\n        \"ipv6.addr\": [\\n          \"fe80::f4ec:d68d:8a5a:2043\",\\n          \"ff02::1:3\"\\n        ]\\n      }\\n    }\\n  },\\n  {\\n    \"_index\": \"packets-2021-03-17\",\\n    \"_type\": \"doc\",\\n    \"_score\": null,\\n    \"_source\": {\\n      \"layers\": {}\\n    }\\n  },\\n  {\\n    \"_index\": \"packets-2021-03-17\",\\n    \"_type\": \"doc\",\\n    \"_score\": null,\\n    \"_source\": {\\n      \"layers\": {}\\n    }\\n  },\\n  {\\n    \"_index\": \"packets-2021-03-17\",\\n    \"_type\": \"doc\",\\n    \"_score\": null,\\n    \"_source\": {\\n      \"layers\": {}\\n    }\\n  },\\n  {\\n    \"_index\": \"packets-2021-03-17\",\\n    \"_type\": \"doc\",\\n    \"_score\": null,\\n    \"_source\": {\\n      \"layers\": {}\\n    }\\n  },\\n  {\\n    \"_index\": \"packets-2021-03-17\",\\n    \"_type\": \"doc\",\\n    \"_score\": null,\\n    \"_source\": {\\n      \"layers\": {}\\n    }\\n  },\\n  {\\n    \"_index\": \"packets-2021-03-17\",\\n    \"_type\": \"doc\",\\n    \"_score\": null,\\n    \"_source\": {\\n      \"layers\": {}\\n    }\\n  },\\n  {\\n    \"_index\": \"packets-2021-03-17\",\\n    \"_type\": \"doc\",\\n    \"_score\": null,\\n    \"_source\": {\\n      \"layers\": {}\\n    }\\n  },\\n  {\\n    \"_index\": \"packets-2021-03-17\",\\n    \"_type\": \"doc\",\\n    \"_score\": null,\\n    \"_source\": {\\n      \"layers\": {}\\n    }\\n  },\\n  {\\n    \"_index\": \"packets-2021-03-17\",\\n    \"_type\": \"doc\",\\n    \"_score\": null,\\n    \"_source\": {\\n      \"layers\": {}\\n    }\\n  },\\n  {\\n    \"_index\": \"packets-2021-03-17\",\\n    \"_type\": \"doc\",\\n    \"_score\": null,\\n    \"_source\": {\\n      \"layers\": {}\\n    }\\n  },\\n  {\\n    \"_index\": \"packets-2021-03-17\",\\n    \"_type\": \"doc\",\\n    \"_score\": null,\\n    \"_source\": {\\n      \"layers\": {}\\n    }\\n  },\\n  {\\n    \"_index\": \"packets-2021-03-17\",\\n    \"_type\": \"doc\",\\n    \"_score\": null,\\n    \"_source\": {\\n      \"layers\": {\\n        \"ipv6.addr\": [\\n          \"fe80::4de:bff0:3471:e13c\",\\n          \"ff02::fb\"\\n        ]\\n      }\\n    }\\n  },\\n  {\\n    \"_index\": \"packets-2021-03-17\",\\n    \"_type\": \"doc\",\\n    \"_score\": null,\\n    \"_source\": {\\n      \"layers\": {}\\n    }\\n  },\\n  {\\n    \"_index\": \"packets-2021-03-17\",\\n    \"_type\": \"doc\",\\n    \"_score\": null,\\n    \"_source\": {\\n      \"layers\": {}\\n    }\\n  },\\n  {\\n    \"_index\": \"packets-2021-03-17\",\\n    \"_type\": \"doc\",\\n    \"_score\": null,\\n    \"_source\": {\\n      \"layers\": {}\\n    }\\n  },\\n  {\\n    \"_index\": \"packets-2021-03-17\",\\n    \"_type\": \"doc\",\\n    \"_score\": null,\\n    \"_source\": {\\n      \"layers\": {}\\n    }\\n  },\\n  {\\n    \"_index\": \"packets-2021-03-17\",\\n    \"_type\": \"doc\",\\n    \"_score\": null,\\n    \"_source\": {\\n      \"layers\": {}\\n    }\\n  },\\n  {\\n    \"_index\": \"packets-2021-03-17\",\\n    \"_type\": \"doc\",\\n    \"_score\": null,\\n    \"_source\": {\\n      \"layers\": {}\\n    }\\n  },\\n  {\\n    \"_index\": \"packets-2021-03-17\",\\n    \"_type\": \"doc\",\\n    \"_score\": null,\\n    \"_source\": {\\n      \"layers\": {}\\n    }\\n  },\\n  {\\n    \"_index\": \"packets-2021-03-17\",\\n    \"_type\": \"doc\",\\n    \"_score\": null,\\n    \"_source\": {\\n      \"layers\": {}\\n    }\\n  },\\n  {\\n    \"_index\": \"packets-2021-03-17\",\\n    \"_type\": \"doc\",\\n    \"_score\": null,\\n    \"_source\": {\\n      \"layers\": {}\\n    }\\n  },\\n  {\\n    \"_index\": \"packets-2021-03-17\",\\n    \"_type\": \"doc\",\\n    \"_score\": null,\\n    \"_source\": {\\n      \"layers\": {}\\n    }\\n  },\\n  {\\n    \"_index\": \"packets-2021-03-17\",\\n    \"_type\": \"doc\",\\n    \"_score\": null,\\n    \"_source\": {\\n      \"layers\": {}\\n    }\\n  },\\n  {\\n    \"_index\": \"packets-2021-03-17\",\\n    \"_type\": \"doc\",\\n    \"_score\": null,\\n    \"_source\": {\\n      \"layers\": {}\\n    }\\n  },\\n  {\\n    \"_index\": \"packets-2021-03-17\",\\n    \"_type\": \"doc\",\\n    \"_score\": null,\\n    \"_source\": {\\n      \"layers\": {}\\n    }\\n  },\\n  {\\n    \"_index\": \"packets-2021-03-17\",\\n    \"_type\": \"doc\",\\n    \"_score\": null,\\n    \"_source\": {\\n      \"layers\": {}\\n    }\\n  },\\n  {\\n    \"_index\": \"packets-2021-03-17\",\\n    \"_type\": \"doc\",\\n    \"_score\": null,\\n    \"_source\": {\\n      \"layers\": {\\n        \"ipv6.addr\": [\\n          \"fe80::4de:bff0:3471:e13c\",\\n          \"ff02::fb\"\\n        ]\\n      }\\n    }\\n  },\\n  {\\n    \"_index\": \"packets-2021-03-17\",\\n    \"_type\": \"doc\",\\n    \"_score\": null,\\n    \"_source\": {\\n      \"layers\": {}\\n    }\\n  },\\n  {\\n    \"_index\": \"packets-2021-03-17\",\\n    \"_type\": \"doc\",\\n    \"_score\": null,\\n    \"_source\": {\\n      \"layers\": {}\\n    }\\n  },\\n  {\\n    \"_index\": \"packets-2021-03-17\",\\n    \"_type\": \"doc\",\\n    \"_score\": null,\\n    \"_source\": {\\n      \"layers\": {}\\n    }\\n  },\\n  {\\n    \"_index\": \"packets-2021-03-17\",\\n    \"_type\": \"doc\",\\n    \"_score\": null,\\n    \"_source\": {\\n      \"layers\": {}\\n    }\\n  },\\n  {\\n    \"_index\": \"packets-2021-03-17\",\\n    \"_type\": \"doc\",\\n    \"_score\": null,\\n    \"_source\": {\\n      \"layers\": {}\\n    }\\n  },\\n  {\\n    \"_index\": \"packets-2021-03-17\",\\n    \"_type\": \"doc\",\\n    \"_score\": null,\\n    \"_source\": {\\n      \"layers\": {\\n        \"ipv6.addr\": [\\n          \"fe80::f4ec:d68d:8a5a:2043\",\\n          \"ff02::1:3\"\\n        ]\\n      }\\n    }\\n  },\\n  {\\n    \"_index\": \"packets-2021-03-17\",\\n    \"_type\": \"doc\",\\n    \"_score\": null,\\n    \"_source\": {\\n      \"layers\": {}\\n    }\\n  },\\n  {\\n    \"_index\": \"packets-2021-03-17\",\\n    \"_type\": \"doc\",\\n    \"_score\": null,\\n    \"_source\": {\\n      \"layers\": {}\\n    }\\n  },\\n  {\\n    \"_index\": \"packets-2021-03-17\",\\n    \"_type\": \"doc\",\\n    \"_score\": null,\\n    \"_source\": {\\n      \"layers\": {\\n        \"ipv6.addr\": [\\n          \"fe80::f4ec:d68d:8a5a:2043\",\\n          \"ff02::1:3\"\\n        ]\\n      }\\n    }\\n  },\\n  {\\n    \"_index\": \"packets-2021-03-17\",\\n    \"_type\": \"doc\",\\n    \"_score\": null,\\n    \"_source\": {\\n      \"layers\": {}\\n    }\\n  },\\n  {\\n    \"_index\": \"packets-2021-03-17\",\\n    \"_type\": \"doc\",\\n    \"_score\": null,\\n    \"_source\": {\\n      \"layers\": {\\n        \"ipv6.addr\": [\\n          \"fe80::f4ec:d68d:8a5a:2043\",\\n          \"ff02::1:3\"\\n        ]\\n      }\\n    }\\n  },\\n  {\\n    \"_index\": \"packets-2021-03-17\",\\n    \"_type\": \"doc\",\\n    \"_score\": null,\\n    \"_source\": {\\n      \"layers\": {}\\n    }\\n  },\\n  {\\n    \"_index\": \"packets-2021-03-17\",\\n    \"_type\": \"doc\",\\n    \"_score\": null,\\n    \"_source\": {\\n      \"layers\": {}\\n    }\\n  },\\n  {\\n    \"_index\": \"packets-2021-03-17\",\\n    \"_type\": \"doc\",\\n    \"_score\": null,\\n    \"_source\": {\\n      \"layers\": {\\n        \"ipv6.addr\": [\\n          \"fe80::4de:bff0:3471:e13c\",\\n          \"ff02::fb\"\\n        ]\\n      }\\n    }\\n  },\\n  {\\n    \"_index\": \"packets-2021-03-17\",\\n    \"_type\": \"doc\",\\n    \"_score\": null,\\n    \"_source\": {\\n      \"layers\": {}\\n    }\\n  },\\n  {\\n    \"_index\": \"packets-2021-03-17\",\\n    \"_type\": \"doc\",\\n    \"_score\": null,\\n    \"_source\": {\\n      \"layers\": {}\\n    }\\n  },\\n  {\\n    \"_index\": \"packets-2021-03-17\",\\n    \"_type\": \"doc\",\\n    \"_score\": null,\\n    \"_source\": {\\n      \"layers\": {\\n        \"ipv6.addr\": [\\n          \"fe80::65be:40b7:16a2:de45\",\\n          \"ff02::1:3\"\\n        ]\\n      }\\n    }\\n  },\\n  {\\n    \"_index\": \"packets-2021-03-17\",\\n    \"_type\": \"doc\",\\n    \"_score\": null,\\n    \"_source\": {\\n      \"layers\": {}\\n    }\\n  },\\n  {\\n    \"_index\": \"packets-2021-03-17\",\\n    \"_type\": \"doc\",\\n    \"_score\": null,\\n    \"_source\": {\\n      \"layers\": {}\\n    }\\n  },\\n  {\\n    \"_index\": \"packets-2021-03-17\",\\n    \"_type\": \"doc\",\\n    \"_score\": null,\\n    \"_source\": {\\n      \"layers\": {}\\n    }\\n  },\\n  {\\n    \"_index\": \"packets-2021-03-17\",\\n    \"_type\": \"doc\",\\n    \"_score\": null,\\n    \"_source\": {\\n      \"layers\": {\\n        \"ipv6.addr\": [\\n          \"fe80::4de:bff0:3471:e13c\",\\n          \"ff02::fb\"\\n        ]\\n      }\\n    }\\n  },\\n  {\\n    \"_index\": \"packets-2021-03-17\",\\n    \"_type\": \"doc\",\\n    \"_score\": null,\\n    \"_source\": {\\n      \"layers\": {}\\n    }\\n  },\\n  {\\n    \"_index\": \"packets-2021-03-17\",\\n    \"_type\": \"doc\",\\n    \"_score\": null,\\n    \"_source\": {\\n      \"layers\": {\\n        \"ipv6.addr\": [\\n          \"fe80::14a8:5f25:9d0:155\",\\n          \"ff02::fb\"\\n        ]\\n      }\\n    }\\n  },\\n  {\\n    \"_index\": \"packets-2021-03-17\",\\n    \"_type\": \"doc\",\\n    \"_score\": null,\\n    \"_source\": {\\n      \"layers\": {}\\n    }\\n  },\\n  {\\n    \"_index\": \"packets-2021-03-17\",\\n    \"_type\": \"doc\",\\n    \"_score\": null,\\n    \"_source\": {\\n      \"layers\": {}\\n    }\\n  },\\n  {\\n    \"_index\": \"packets-2021-03-17\",\\n    \"_type\": \"doc\",\\n    \"_score\": null,\\n    \"_source\": {\\n      \"layers\": {}\\n    }\\n  },\\n  {\\n    \"_index\": \"packets-2021-03-17\",\\n    \"_type\": \"doc\",\\n    \"_score\": null,\\n    \"_source\": {\\n      \"layers\": {}\\n    }\\n  },\\n  {\\n    \"_index\": \"packets-2021-03-17\",\\n    \"_type\": \"doc\",\\n    \"_score\": null,\\n    \"_source\": {\\n      \"layers\": {}\\n    }\\n  },\\n  {\\n    \"_index\": \"packets-2021-03-17\",\\n    \"_type\": \"doc\",\\n    \"_score\": null,\\n    \"_source\": {\\n      \"layers\": {}\\n    }\\n  },\\n  {\\n    \"_index\": \"packets-2021-03-17\",\\n    \"_type\": \"doc\",\\n    \"_score\": null,\\n    \"_source\": {\\n      \"layers\": {}\\n    }\\n  },\\n  {\\n    \"_index\": \"packets-2021-03-17\",\\n    \"_type\": \"doc\",\\n    \"_score\": null,\\n    \"_source\": {\\n      \"layers\": {}\\n    }\\n  },\\n  {\\n    \"_index\": \"packets-2021-03-17\",\\n    \"_type\": \"doc\",\\n    \"_score\": null,\\n    \"_source\": {\\n      \"layers\": {}\\n    }\\n  },\\n  {\\n    \"_index\": \"packets-2021-03-17\",\\n    \"_type\": \"doc\",\\n    \"_score\": null,\\n    \"_source\": {\\n      \"layers\": {}\\n    }\\n  },\\n  {\\n    \"_index\": \"packets-2021-03-17\",\\n    \"_type\": \"doc\",\\n    \"_score\": null,\\n    \"_source\": {\\n      \"layers\": {}\\n    }\\n  },\\n  {\\n    \"_index\": \"packets-2021-03-17\",\\n    \"_type\": \"doc\",\\n    \"_score\": null,\\n    \"_source\": {\\n      \"layers\": {\\n        \"ipv6.addr\": [\\n          \"fe80::4de:bff0:3471:e13c\",\\n          \"ff02::fb\"\\n        ]\\n      }\\n    }\\n  },\\n  {\\n    \"_index\": \"packets-2021-03-17\",\\n    \"_type\": \"doc\",\\n    \"_score\": null,\\n    \"_source\": {\\n      \"layers\": {}\\n    }\\n  },\\n  {\\n    \"_index\": \"packets-2021-03-17\",\\n    \"_type\": \"doc\",\\n    \"_score\": null,\\n    \"_source\": {\\n      \"layers\": {}\\n    }\\n  },\\n  {\\n    \"_index\": \"packets-2021-03-17\",\\n    \"_type\": \"doc\",\\n    \"_score\": null,\\n    \"_source\": {\\n      \"layers\": {}\\n    }\\n  },\\n  {\\n    \"_index\": \"packets-2021-03-17\",\\n    \"_type\": \"doc\",\\n    \"_score\": null,\\n    \"_source\": {\\n      \"layers\": {}\\n    }\\n  },\\n  {\\n    \"_index\": \"packets-2021-03-17\",\\n    \"_type\": \"doc\",\\n    \"_score\": null,\\n    \"_source\": {\\n      \"layers\": {}\\n    }\\n  },\\n  {\\n    \"_index\": \"packets-2021-03-17\",\\n    \"_type\": \"doc\",\\n    \"_score\": null,\\n    \"_source\": {\\n      \"layers\": {\\n        \"ipv6.addr\": [\\n          \"fe80::4de:bff0:3471:e13c\",\\n          \"ff02::fb\"\\n        ]\\n      }\\n    }\\n  },\\n  {\\n    \"_index\": \"packets-2021-03-17\",\\n    \"_type\": \"doc\",\\n    \"_score\": null,\\n    \"_source\": {\\n      \"layers\": {}\\n    }\\n  },\\n  {\\n    \"_index\": \"packets-2021-03-17\",\\n    \"_type\": \"doc\",\\n    \"_score\": null,\\n    \"_source\": {\\n      \"layers\": {}\\n    }\\n  },\\n  {\\n    \"_index\": \"packets-2021-03-17\",\\n    \"_type\": \"doc\",\\n    \"_score\": null,\\n    \"_source\": {\\n      \"layers\": {}\\n    }\\n  },\\n  {\\n    \"_index\": \"packets-2021-03-17\",\\n    \"_type\": \"doc\",\\n    \"_score\": null,\\n    \"_source\": {\\n      \"layers\": {\\n        \"ipv6.addr\": [\\n          \"fe80::4de:bff0:3471:e13c\",\\n          \"ff02::fb\"\\n        ]\\n      }\\n    }\\n  },\\n  {\\n    \"_index\": \"packets-2021-03-17\",\\n    \"_type\": \"doc\",\\n    \"_score\": null,\\n    \"_source\": {\\n      \"layers\": {}\\n    }\\n  },\\n  {\\n    \"_index\": \"packets-2021-03-17\",\\n    \"_type\": \"doc\",\\n    \"_score\": null,\\n    \"_source\": {\\n      \"layers\": {}\\n    }\\n  },\\n  {\\n    \"_index\": \"packets-2021-03-17\",\\n    \"_type\": \"doc\",\\n    \"_score\": null,\\n    \"_source\": {\\n      \"layers\": {}\\n    }\\n  },\\n  {\\n    \"_index\": \"packets-2021-03-17\",\\n    \"_type\": \"doc\",\\n    \"_score\": null,\\n    \"_source\": {\\n      \"layers\": {}\\n    }\\n  },\\n  {\\n    \"_index\": \"packets-2021-03-17\",\\n    \"_type\": \"doc\",\\n    \"_score\": null,\\n    \"_source\": {\\n      \"layers\": {}\\n    }\\n  },\\n  {\\n    \"_index\": \"packets-2021-03-17\",\\n    \"_type\": \"doc\",\\n    \"_score\": null,\\n    \"_source\": {\\n      \"layers\": {\\n        \"ipv6.addr\": [\\n          \"fe80::f4ec:d68d:8a5a:2043\",\\n          \"ff02::1:3\"\\n        ]\\n      }\\n    }\\n  },\\n  {\\n    \"_index\": \"packets-2021-03-17\",\\n    \"_type\": \"doc\",\\n    \"_score\": null,\\n    \"_source\": {\\n      \"layers\": {}\\n    }\\n  },\\n  {\\n    \"_index\": \"packets-2021-03-17\",\\n    \"_type\": \"doc\",\\n    \"_score\": null,\\n    \"_source\": {\\n      \"layers\": {}\\n    }\\n  },\\n  {\\n    \"_index\": \"packets-2021-03-17\",\\n    \"_type\": \"doc\",\\n    \"_score\": null,\\n    \"_source\": {\\n      \"layers\": {}\\n    }\\n  },\\n  {\\n    \"_index\": \"packets-2021-03-17\",\\n    \"_type\": \"doc\",\\n    \"_score\": null,\\n    \"_source\": {\\n      \"layers\": {}\\n    }\\n  },\\n  {\\n    \"_index\": \"packets-2021-03-17\",\\n    \"_type\": \"doc\",\\n    \"_score\": null,\\n    \"_source\": {\\n      \"layers\": {\\n        \"ipv6.addr\": [\\n          \"fe80::4de:bff0:3471:e13c\",\\n          \"ff02::fb\"\\n        ]\\n      }\\n    }\\n  },\\n  {\\n    \"_index\": \"packets-2021-03-17\",\\n    \"_type\": \"doc\",\\n    \"_score\": null,\\n    \"_source\": {\\n      \"layers\": {}\\n    }\\n  },\\n  {\\n    \"_index\": \"packets-2021-03-17\",\\n    \"_type\": \"doc\",\\n    \"_score\": null,\\n    \"_source\": {\\n      \"layers\": {}\\n    }\\n  },\\n  {\\n    \"_index\": \"packets-2021-03-17\",\\n    \"_type\": \"doc\",\\n    \"_score\": null,\\n    \"_source\": {\\n      \"layers\": {}\\n    }\\n  },\\n  {\\n    \"_index\": \"packets-2021-03-17\",\\n    \"_type\": \"doc\",\\n    \"_score\": null,\\n    \"_source\": {\\n      \"layers\": {}\\n    }\\n  },\\n  {\\n    \"_index\": \"packets-2021-03-17\",\\n    \"_type\": \"doc\",\\n    \"_score\": null,\\n    \"_source\": {\\n      \"layers\": {\\n        \"ipv6.addr\": [\\n          \"fe80::4de:bff0:3471:e13c\",\\n          \"ff02::fb\"\\n        ]\\n      }\\n    }\\n  },\\n  {\\n    \"_index\": \"packets-2021-03-17\",\\n    \"_type\": \"doc\",\\n    \"_score\": null,\\n    \"_source\": {\\n      \"layers\": {}\\n    }\\n  }\\n]\\n'"
      ]
     },
     "execution_count": 86,
     "metadata": {},
     "output_type": "execute_result"
    }
   ],
   "source": [
    "r"
   ]
  },
  {
   "cell_type": "code",
   "execution_count": 76,
   "id": "duplicate-speech",
   "metadata": {},
   "outputs": [],
   "source": [
    "rr = bytes.decode(r)"
   ]
  },
  {
   "cell_type": "code",
   "execution_count": 77,
   "id": "certified-workplace",
   "metadata": {},
   "outputs": [
    {
     "data": {
      "text/plain": [
       "['JSONDecodeError',\n",
       " 'JSONDecoder',\n",
       " 'JSONEncoder',\n",
       " '__all__',\n",
       " '__author__',\n",
       " '__builtins__',\n",
       " '__cached__',\n",
       " '__doc__',\n",
       " '__file__',\n",
       " '__loader__',\n",
       " '__name__',\n",
       " '__package__',\n",
       " '__path__',\n",
       " '__spec__',\n",
       " '__version__',\n",
       " '_default_decoder',\n",
       " '_default_encoder',\n",
       " 'codecs',\n",
       " 'decoder',\n",
       " 'detect_encoding',\n",
       " 'dump',\n",
       " 'dumps',\n",
       " 'encoder',\n",
       " 'load',\n",
       " 'loads',\n",
       " 'scanner']"
      ]
     },
     "execution_count": 77,
     "metadata": {},
     "output_type": "execute_result"
    }
   ],
   "source": [
    "import json\n",
    "dir(json)"
   ]
  },
  {
   "cell_type": "code",
   "execution_count": 72,
   "id": "senior-teddy",
   "metadata": {},
   "outputs": [
    {
     "data": {
      "text/plain": [
       "{'_index': 'packets-2021-03-17',\n",
       " '_type': 'doc',\n",
       " '_score': None,\n",
       " '_source': {'layers': {}}}"
      ]
     },
     "execution_count": 72,
     "metadata": {},
     "output_type": "execute_result"
    }
   ],
   "source": [
    "#json.loads(\"{\\\"a\\\":\"+ rr +\"}\")\n",
    "json.loads( rr )[4]"
   ]
  },
  {
   "cell_type": "code",
   "execution_count": 43,
   "id": "corrected-pakistan",
   "metadata": {},
   "outputs": [
    {
     "data": {
      "text/plain": [
       "['src',\n",
       " 'sig1',\n",
       " 'dst',\n",
       " 'frames_to_src',\n",
       " 'bytes_to_src',\n",
       " 'frames_to_dst',\n",
       " 'bytes_to_dst',\n",
       " 'sec_relative',\n",
       " 'sec_duration']"
      ]
     },
     "execution_count": 43,
     "metadata": {},
     "output_type": "execute_result"
    }
   ],
   "source": [
    "\"src,sig1,dst,frames_to_src,bytes_to_src,frames_to_dst,bytes_to_dst,sec_relative,sec_duration\".split(\",\")"
   ]
  },
  {
   "cell_type": "code",
   "execution_count": 44,
   "id": "global-respondent",
   "metadata": {},
   "outputs": [
    {
     "data": {
      "text/plain": [
       "['-Y',\n",
       " 'ip.addr==192.168.2.156',\n",
       " '-T',\n",
       " 'json',\n",
       " '-e',\n",
       " 'ip.addr',\n",
       " '-e',\n",
       " 'tcp.port',\n",
       " '-e',\n",
       " 'tcp.stream',\n",
       " '-e',\n",
       " 'tcp.payload']"
      ]
     },
     "execution_count": 44,
     "metadata": {},
     "output_type": "execute_result"
    }
   ],
   "source": [
    "\"-Y ip.addr==192.168.2.156 -T json -e ip.addr -e tcp.port -e tcp.stream -e tcp.payload\".split()"
   ]
  },
  {
   "cell_type": "code",
   "execution_count": 87,
   "id": "laughing-piece",
   "metadata": {},
   "outputs": [
    {
     "data": {
      "text/plain": [
       "['__breakpointhook__',\n",
       " '__displayhook__',\n",
       " '__doc__',\n",
       " '__excepthook__',\n",
       " '__interactivehook__',\n",
       " '__loader__',\n",
       " '__name__',\n",
       " '__package__',\n",
       " '__spec__',\n",
       " '__stderr__',\n",
       " '__stdin__',\n",
       " '__stdout__',\n",
       " '__unraisablehook__',\n",
       " '_base_executable',\n",
       " '_clear_type_cache',\n",
       " '_current_frames',\n",
       " '_debugmallocstats',\n",
       " '_framework',\n",
       " '_getframe',\n",
       " '_git',\n",
       " '_home',\n",
       " '_xoptions',\n",
       " 'abiflags',\n",
       " 'addaudithook',\n",
       " 'api_version',\n",
       " 'argv',\n",
       " 'audit',\n",
       " 'base_exec_prefix',\n",
       " 'base_prefix',\n",
       " 'breakpointhook',\n",
       " 'builtin_module_names',\n",
       " 'byteorder',\n",
       " 'call_tracing',\n",
       " 'copyright',\n",
       " 'displayhook',\n",
       " 'dont_write_bytecode',\n",
       " 'exc_info',\n",
       " 'excepthook',\n",
       " 'exec_prefix',\n",
       " 'executable',\n",
       " 'exit',\n",
       " 'flags',\n",
       " 'float_info',\n",
       " 'float_repr_style',\n",
       " 'get_asyncgen_hooks',\n",
       " 'get_coroutine_origin_tracking_depth',\n",
       " 'getallocatedblocks',\n",
       " 'getdefaultencoding',\n",
       " 'getdlopenflags',\n",
       " 'getfilesystemencodeerrors',\n",
       " 'getfilesystemencoding',\n",
       " 'getprofile',\n",
       " 'getrecursionlimit',\n",
       " 'getrefcount',\n",
       " 'getsizeof',\n",
       " 'getswitchinterval',\n",
       " 'gettrace',\n",
       " 'hash_info',\n",
       " 'hexversion',\n",
       " 'implementation',\n",
       " 'int_info',\n",
       " 'intern',\n",
       " 'is_finalizing',\n",
       " 'last_traceback',\n",
       " 'last_type',\n",
       " 'last_value',\n",
       " 'maxsize',\n",
       " 'maxunicode',\n",
       " 'meta_path',\n",
       " 'modules',\n",
       " 'path',\n",
       " 'path_hooks',\n",
       " 'path_importer_cache',\n",
       " 'platform',\n",
       " 'platlibdir',\n",
       " 'prefix',\n",
       " 'ps1',\n",
       " 'ps2',\n",
       " 'ps3',\n",
       " 'pycache_prefix',\n",
       " 'set_asyncgen_hooks',\n",
       " 'set_coroutine_origin_tracking_depth',\n",
       " 'setdlopenflags',\n",
       " 'setprofile',\n",
       " 'setrecursionlimit',\n",
       " 'setswitchinterval',\n",
       " 'settrace',\n",
       " 'stderr',\n",
       " 'stdin',\n",
       " 'stdout',\n",
       " 'thread_info',\n",
       " 'unraisablehook',\n",
       " 'version',\n",
       " 'version_info',\n",
       " 'warnoptions']"
      ]
     },
     "execution_count": 87,
     "metadata": {},
     "output_type": "execute_result"
    }
   ],
   "source": [
    "import sys\n",
    "dir(sys)"
   ]
  },
  {
   "cell_type": "code",
   "execution_count": 88,
   "id": "indie-grounds",
   "metadata": {},
   "outputs": [
    {
     "data": {
      "text/plain": [
       "['__class__',\n",
       " '__class_getitem__',\n",
       " '__del__',\n",
       " '__delattr__',\n",
       " '__dict__',\n",
       " '__dir__',\n",
       " '__doc__',\n",
       " '__enter__',\n",
       " '__eq__',\n",
       " '__exit__',\n",
       " '__format__',\n",
       " '__ge__',\n",
       " '__getattribute__',\n",
       " '__gt__',\n",
       " '__hash__',\n",
       " '__init__',\n",
       " '__init_subclass__',\n",
       " '__le__',\n",
       " '__lt__',\n",
       " '__module__',\n",
       " '__ne__',\n",
       " '__new__',\n",
       " '__reduce__',\n",
       " '__reduce_ex__',\n",
       " '__repr__',\n",
       " '__setattr__',\n",
       " '__sizeof__',\n",
       " '__str__',\n",
       " '__subclasshook__',\n",
       " '__weakref__',\n",
       " '_check_timeout',\n",
       " '_child_created',\n",
       " '_close_pipe_fds',\n",
       " '_closed_child_pipe_fds',\n",
       " '_communicate',\n",
       " '_communication_started',\n",
       " '_execute_child',\n",
       " '_fileobj2output',\n",
       " '_get_devnull',\n",
       " '_get_handles',\n",
       " '_handle_exitstatus',\n",
       " '_input',\n",
       " '_input_offset',\n",
       " '_internal_poll',\n",
       " '_posix_spawn',\n",
       " '_remaining_time',\n",
       " '_save_input',\n",
       " '_sigint_wait_secs',\n",
       " '_stdin_write',\n",
       " '_translate_newlines',\n",
       " '_try_wait',\n",
       " '_wait',\n",
       " '_waitpid_lock',\n",
       " 'args',\n",
       " 'communicate',\n",
       " 'encoding',\n",
       " 'errors',\n",
       " 'kill',\n",
       " 'pid',\n",
       " 'poll',\n",
       " 'returncode',\n",
       " 'send_signal',\n",
       " 'stderr',\n",
       " 'stdin',\n",
       " 'stdout',\n",
       " 'terminate',\n",
       " 'text_mode',\n",
       " 'universal_newlines',\n",
       " 'wait']"
      ]
     },
     "execution_count": 88,
     "metadata": {},
     "output_type": "execute_result"
    }
   ],
   "source": [
    "dir(p)"
   ]
  },
  {
   "cell_type": "code",
   "execution_count": 89,
   "id": "moving-yeast",
   "metadata": {},
   "outputs": [
    {
     "name": "stdout",
     "output_type": "stream",
     "text": [
      "Help on method communicate in module subprocess:\n",
      "\n",
      "communicate(input=None, timeout=None) method of subprocess.Popen instance\n",
      "    Interact with process: Send data to stdin and close it.\n",
      "    Read data from stdout and stderr, until end-of-file is\n",
      "    reached.  Wait for process to terminate.\n",
      "    \n",
      "    The optional \"input\" argument should be data to be sent to the\n",
      "    child process, or None, if no data should be sent to the child.\n",
      "    communicate() returns a tuple (stdout, stderr).\n",
      "    \n",
      "    By default, all communication is in bytes, and therefore any\n",
      "    \"input\" should be bytes, and the (stdout, stderr) will be bytes.\n",
      "    If in text mode (indicated by self.text_mode), any \"input\" should\n",
      "    be a string, and (stdout, stderr) will be strings decoded\n",
      "    according to locale encoding, or by \"encoding\" if set. Text mode\n",
      "    is triggered by setting any of text, encoding, errors or\n",
      "    universal_newlines.\n",
      "\n"
     ]
    }
   ],
   "source": [
    "help(p.communicate)"
   ]
  },
  {
   "cell_type": "code",
   "execution_count": 91,
   "id": "handy-champion",
   "metadata": {},
   "outputs": [
    {
     "ename": "TypeError",
     "evalue": "'str' object is not callable",
     "output_type": "error",
     "traceback": [
      "\u001b[0;31m---------------------------------------------------------------------------\u001b[0m",
      "\u001b[0;31mTypeError\u001b[0m                                 Traceback (most recent call last)",
      "\u001b[0;32m<ipython-input-91-82457618e1a4>\u001b[0m in \u001b[0;36m<module>\u001b[0;34m\u001b[0m\n\u001b[1;32m      4\u001b[0m \u001b[0;32mdef\u001b[0m \u001b[0morg\u001b[0m\u001b[0;34m(\u001b[0m\u001b[0;34m)\u001b[0m\u001b[0;34m:\u001b[0m\u001b[0;34m\u001b[0m\u001b[0;34m\u001b[0m\u001b[0m\n\u001b[1;32m      5\u001b[0m     \u001b[0;32mreturn\u001b[0m \u001b[0;34m\"a\"\u001b[0m\u001b[0;34m\u001b[0m\u001b[0;34m\u001b[0m\u001b[0m\n\u001b[0;32m----> 6\u001b[0;31m \u001b[0morg\u001b[0m\u001b[0;34m(\u001b[0m\u001b[0;34m)\u001b[0m\u001b[0;34m\u001b[0m\u001b[0;34m\u001b[0m\u001b[0m\n\u001b[0m",
      "\u001b[0;31mTypeError\u001b[0m: 'str' object is not callable"
     ]
    }
   ],
   "source": [
    "def f(a):\n",
    "    return a()+\"b\"\n",
    "@f\n",
    "def org():\n",
    "    return \"a\"\n",
    "org()"
   ]
  },
  {
   "cell_type": "code",
   "execution_count": null,
   "id": "filled-company",
   "metadata": {},
   "outputs": [],
   "source": []
  }
 ],
 "metadata": {
  "kernelspec": {
   "display_name": "Python 3",
   "language": "python",
   "name": "python3"
  },
  "language_info": {
   "codemirror_mode": {
    "name": "ipython",
    "version": 3
   },
   "file_extension": ".py",
   "mimetype": "text/x-python",
   "name": "python",
   "nbconvert_exporter": "python",
   "pygments_lexer": "ipython3",
   "version": "3.9.1+"
  }
 },
 "nbformat": 4,
 "nbformat_minor": 5
}
