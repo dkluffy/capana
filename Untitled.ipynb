{
 "cells": [
  {
   "cell_type": "code",
   "execution_count": 1,
   "id": "bigger-northeast",
   "metadata": {},
   "outputs": [],
   "source": [
    "import abc"
   ]
  },
  {
   "cell_type": "code",
   "execution_count": 67,
   "id": "decreased-cambodia",
   "metadata": {},
   "outputs": [],
   "source": [
    "class backend(abc.ABC):\n",
    "    tables = []\n",
    "    aa = 9"
   ]
  },
  {
   "cell_type": "code",
   "execution_count": 68,
   "id": "passing-latino",
   "metadata": {},
   "outputs": [],
   "source": [
    "class tshark(backend):\n",
    "    #aa = 10\n",
    "    def __init__(self):\n",
    "        self.tables = []\n",
    "        self.tables.append(\"abc\")"
   ]
  },
  {
   "cell_type": "code",
   "execution_count": 69,
   "id": "varied-wedding",
   "metadata": {},
   "outputs": [
    {
     "data": {
      "text/plain": [
       "['abc']"
      ]
     },
     "execution_count": 69,
     "metadata": {},
     "output_type": "execute_result"
    }
   ],
   "source": [
    "t = tshark()\n",
    "t2 = tshark()\n",
    "t2.tables+=\"aaaa\"\n",
    "t.tables"
   ]
  },
  {
   "cell_type": "code",
   "execution_count": 70,
   "id": "historic-personality",
   "metadata": {},
   "outputs": [
    {
     "data": {
      "text/plain": [
       "['abc', 'a', 'a', 'a', 'a']"
      ]
     },
     "execution_count": 70,
     "metadata": {},
     "output_type": "execute_result"
    }
   ],
   "source": [
    "t2.tables"
   ]
  },
  {
   "cell_type": "code",
   "execution_count": 71,
   "id": "secure-paraguay",
   "metadata": {},
   "outputs": [],
   "source": [
    "tshark.aa+=1"
   ]
  },
  {
   "cell_type": "code",
   "execution_count": 72,
   "id": "unlikely-presentation",
   "metadata": {},
   "outputs": [
    {
     "data": {
      "text/plain": [
       "10"
      ]
     },
     "execution_count": 72,
     "metadata": {},
     "output_type": "execute_result"
    }
   ],
   "source": [
    "tshark.aa"
   ]
  },
  {
   "cell_type": "code",
   "execution_count": 73,
   "id": "bacterial-breath",
   "metadata": {},
   "outputs": [
    {
     "data": {
      "text/plain": [
       "10"
      ]
     },
     "execution_count": 73,
     "metadata": {},
     "output_type": "execute_result"
    }
   ],
   "source": [
    "t.aa"
   ]
  },
  {
   "cell_type": "code",
   "execution_count": 57,
   "id": "interior-defense",
   "metadata": {},
   "outputs": [],
   "source": [
    "class tshark(backend):\n",
    "    aa = 10\n",
    "    def __init__(self):\n",
    "        self.tables = []\n",
    "        self.tables.append(\"abc\")\n",
    "    def t_func1(self):\n",
    "        print(1)"
   ]
  },
  {
   "cell_type": "code",
   "execution_count": 58,
   "id": "sublime-notebook",
   "metadata": {},
   "outputs": [],
   "source": [
    "t = tshark()"
   ]
  },
  {
   "cell_type": "code",
   "execution_count": 59,
   "id": "agreed-angola",
   "metadata": {},
   "outputs": [
    {
     "data": {
      "text/plain": [
       "['__abstractmethods__',\n",
       " '__class__',\n",
       " '__delattr__',\n",
       " '__dict__',\n",
       " '__dir__',\n",
       " '__doc__',\n",
       " '__eq__',\n",
       " '__format__',\n",
       " '__ge__',\n",
       " '__getattribute__',\n",
       " '__gt__',\n",
       " '__hash__',\n",
       " '__init__',\n",
       " '__init_subclass__',\n",
       " '__le__',\n",
       " '__lt__',\n",
       " '__module__',\n",
       " '__ne__',\n",
       " '__new__',\n",
       " '__reduce__',\n",
       " '__reduce_ex__',\n",
       " '__repr__',\n",
       " '__setattr__',\n",
       " '__sizeof__',\n",
       " '__slots__',\n",
       " '__str__',\n",
       " '__subclasshook__',\n",
       " '__weakref__',\n",
       " '_abc_impl',\n",
       " 'aa',\n",
       " 't_func1',\n",
       " 'tables']"
      ]
     },
     "execution_count": 59,
     "metadata": {},
     "output_type": "execute_result"
    }
   ],
   "source": [
    "dir(t)"
   ]
  },
  {
   "cell_type": "code",
   "execution_count": 60,
   "id": "creative-suspension",
   "metadata": {},
   "outputs": [
    {
     "name": "stdout",
     "output_type": "stream",
     "text": [
      "1\n"
     ]
    }
   ],
   "source": [
    "t.__getattribute__('t_func1')()"
   ]
  },
  {
   "cell_type": "code",
   "execution_count": null,
   "id": "sustained-ethnic",
   "metadata": {},
   "outputs": [],
   "source": []
  }
 ],
 "metadata": {
  "kernelspec": {
   "display_name": "Python 3",
   "language": "python",
   "name": "python3"
  },
  "language_info": {
   "codemirror_mode": {
    "name": "ipython",
    "version": 3
   },
   "file_extension": ".py",
   "mimetype": "text/x-python",
   "name": "python",
   "nbconvert_exporter": "python",
   "pygments_lexer": "ipython3",
   "version": "3.9.1+"
  }
 },
 "nbformat": 4,
 "nbformat_minor": 5
}
