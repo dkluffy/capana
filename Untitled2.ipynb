{
 "cells": [
  {
   "cell_type": "code",
   "execution_count": 174,
   "id": "accessible-albuquerque",
   "metadata": {},
   "outputs": [
    {
     "name": "stdout",
     "output_type": "stream",
     "text": [
      "dd_func : () {} 1\n",
      "func,func1 : 0 <function f2 at 0x7fa1ac328310>\n"
     ]
    }
   ],
   "source": [
    "def f0():\n",
    "    return 0\n",
    "\n",
    "def d_func(func,d_arg=10):\n",
    "    def dd_func(func1,*args,**kw_args):\n",
    "        print(\"dd_func :\",args,kw_args,d_arg)\n",
    "        print(\"func,func1 :\",func(),func1)\n",
    "        return func1\n",
    "    return dd_func\n",
    "\n",
    "    \n",
    "@d_func(func=f0,d_arg=1)\n",
    "def f2(a):\n",
    "    print(\"f2:\",a)\n",
    "    return a\n",
    "    \n",
    "\n"
   ]
  },
  {
   "cell_type": "code",
   "execution_count": 173,
   "id": "ecological-phrase",
   "metadata": {},
   "outputs": [
    {
     "name": "stdout",
     "output_type": "stream",
     "text": [
      "f2: 1111\n"
     ]
    },
    {
     "data": {
      "text/plain": [
       "1111"
      ]
     },
     "execution_count": 173,
     "metadata": {},
     "output_type": "execute_result"
    }
   ],
   "source": [
    "f2(1111)"
   ]
  },
  {
   "cell_type": "code",
   "execution_count": 59,
   "id": "infinite-twins",
   "metadata": {},
   "outputs": [],
   "source": [
    "def f3(kw1=1):\n",
    "    print(\"f3\",kw1)"
   ]
  },
  {
   "cell_type": "code",
   "execution_count": 63,
   "id": "played-jewelry",
   "metadata": {},
   "outputs": [
    {
     "name": "stdout",
     "output_type": "stream",
     "text": [
      "None\n"
     ]
    }
   ],
   "source": [
    "print(f3.__closure__)"
   ]
  },
  {
   "cell_type": "code",
   "execution_count": 61,
   "id": "brazilian-frontier",
   "metadata": {},
   "outputs": [
    {
     "data": {
      "text/plain": [
       "['__annotations__',\n",
       " '__call__',\n",
       " '__class__',\n",
       " '__closure__',\n",
       " '__code__',\n",
       " '__defaults__',\n",
       " '__delattr__',\n",
       " '__dict__',\n",
       " '__dir__',\n",
       " '__doc__',\n",
       " '__eq__',\n",
       " '__format__',\n",
       " '__ge__',\n",
       " '__get__',\n",
       " '__getattribute__',\n",
       " '__globals__',\n",
       " '__gt__',\n",
       " '__hash__',\n",
       " '__init__',\n",
       " '__init_subclass__',\n",
       " '__kwdefaults__',\n",
       " '__le__',\n",
       " '__lt__',\n",
       " '__module__',\n",
       " '__name__',\n",
       " '__ne__',\n",
       " '__new__',\n",
       " '__qualname__',\n",
       " '__reduce__',\n",
       " '__reduce_ex__',\n",
       " '__repr__',\n",
       " '__setattr__',\n",
       " '__sizeof__',\n",
       " '__str__',\n",
       " '__subclasshook__']"
      ]
     },
     "execution_count": 61,
     "metadata": {},
     "output_type": "execute_result"
    }
   ],
   "source": [
    "dir(f3)"
   ]
  },
  {
   "cell_type": "code",
   "execution_count": 150,
   "id": "missing-drain",
   "metadata": {},
   "outputs": [],
   "source": [
    "def d_func(func):\n",
    "    def dd_func(*args,**kw_args):\n",
    "        return 1+func(*args,**kw_args)\n",
    "    return dd_func\n",
    "\n",
    "    \n",
    "@d_func\n",
    "def f2(a):\n",
    "    print(\"f2:\",a)\n",
    "    return a\n"
   ]
  },
  {
   "cell_type": "code",
   "execution_count": 151,
   "id": "controlled-prevention",
   "metadata": {},
   "outputs": [
    {
     "name": "stdout",
     "output_type": "stream",
     "text": [
      "f2: 10\n"
     ]
    },
    {
     "data": {
      "text/plain": [
       "11"
      ]
     },
     "execution_count": 151,
     "metadata": {},
     "output_type": "execute_result"
    }
   ],
   "source": [
    "f2(10)"
   ]
  },
  {
   "cell_type": "code",
   "execution_count": 1,
   "id": "signal-region",
   "metadata": {},
   "outputs": [],
   "source": [
    "r = []\n",
    "def d_func(func):\n",
    "    def dd_func(*args):\n",
    "        print(\"r--- \",r)\n",
    "        r.append(func)\n",
    "        return func(*args)\n",
    "    return dd_func\n",
    "\n",
    "@d_func\n",
    "def normal_func(a):\n",
    "    print(\"normal_func\",a)\n",
    "        "
   ]
  },
  {
   "cell_type": "code",
   "execution_count": 2,
   "id": "opposite-freeware",
   "metadata": {},
   "outputs": [
    {
     "name": "stdout",
     "output_type": "stream",
     "text": [
      "r---  []\n",
      "normal_func 1\n"
     ]
    }
   ],
   "source": [
    "normal_func(1)"
   ]
  },
  {
   "cell_type": "code",
   "execution_count": 3,
   "id": "photographic-lodge",
   "metadata": {},
   "outputs": [
    {
     "data": {
      "text/plain": [
       "[<function __main__.normal_func(a)>]"
      ]
     },
     "execution_count": 3,
     "metadata": {},
     "output_type": "execute_result"
    }
   ],
   "source": [
    "r"
   ]
  },
  {
   "cell_type": "code",
   "execution_count": 25,
   "id": "baking-composition",
   "metadata": {},
   "outputs": [],
   "source": [
    "def d_func(func):   #这里的func 是被装饰的函数\n",
    "    def dd_func(*args,**kw_args):\n",
    "        print(args,kw_args)\n",
    "        return func(*args,**kw_args)\n",
    "    return dd_func\n",
    "\n",
    "    \n",
    "@d_func\n",
    "def f2(b,a=10,**kws):\n",
    "    print(\"f2:\",a)\n",
    "    return a"
   ]
  },
  {
   "cell_type": "code",
   "execution_count": 26,
   "id": "religious-option",
   "metadata": {},
   "outputs": [
    {
     "name": "stdout",
     "output_type": "stream",
     "text": [
      "(10, 111) {'c': 100}\n",
      "f2: 111\n"
     ]
    },
    {
     "data": {
      "text/plain": [
       "111"
      ]
     },
     "execution_count": 26,
     "metadata": {},
     "output_type": "execute_result"
    }
   ],
   "source": [
    "f2(10,111,c=100)"
   ]
  },
  {
   "cell_type": "code",
   "execution_count": null,
   "id": "killing-camcorder",
   "metadata": {},
   "outputs": [],
   "source": []
  }
 ],
 "metadata": {
  "kernelspec": {
   "display_name": "Python 3",
   "language": "python",
   "name": "python3"
  },
  "language_info": {
   "codemirror_mode": {
    "name": "ipython",
    "version": 3
   },
   "file_extension": ".py",
   "mimetype": "text/x-python",
   "name": "python",
   "nbconvert_exporter": "python",
   "pygments_lexer": "ipython3",
   "version": "3.9.1+"
  }
 },
 "nbformat": 4,
 "nbformat_minor": 5
}
